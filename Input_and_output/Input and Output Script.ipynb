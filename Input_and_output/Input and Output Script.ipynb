{
 "cells": [
  {
   "cell_type": "code",
   "execution_count": 1,
   "metadata": {},
   "outputs": [
    {
     "name": "stdout",
     "output_type": "stream",
     "text": [
      "Enter your name:- Mamuni Priyadarshani\n"
     ]
    }
   ],
   "source": [
    "Name=input('Enter your name:- ')     "
   ]
  },
  {
   "cell_type": "code",
   "execution_count": 2,
   "metadata": {},
   "outputs": [
    {
     "name": "stdout",
     "output_type": "stream",
     "text": [
      "Enter your Age:- 31\n"
     ]
    }
   ],
   "source": [
    "Age= input('Enter your Age:- ')"
   ]
  },
  {
   "cell_type": "code",
   "execution_count": 3,
   "metadata": {},
   "outputs": [
    {
     "name": "stdout",
     "output_type": "stream",
     "text": [
      "Mamuni Priyadarshani \n",
      " 31\n"
     ]
    }
   ],
   "source": [
    "print (Name, '\\n', Age)"
   ]
  },
  {
   "cell_type": "code",
   "execution_count": 12,
   "metadata": {},
   "outputs": [
    {
     "name": "stdout",
     "output_type": "stream",
     "text": [
      "User name is : Mamuni Priyadarshani\n",
      "User Age is:  31\n"
     ]
    }
   ],
   "source": [
    "print ('User name is :', Name)\n",
    "print ( 'User Age is: ', Age)"
   ]
  },
  {
   "cell_type": "code",
   "execution_count": 16,
   "metadata": {},
   "outputs": [
    {
     "name": "stdout",
     "output_type": "stream",
     "text": [
      "Name\n"
     ]
    }
   ],
   "source": [
    "print ('Name')"
   ]
  },
  {
   "cell_type": "code",
   "execution_count": 14,
   "metadata": {},
   "outputs": [
    {
     "name": "stdout",
     "output_type": "stream",
     "text": [
      "<class 'str'>\n",
      "<class 'str'>\n"
     ]
    }
   ],
   "source": [
    "print (type(Name))\n",
    "print (type(Age))"
   ]
  },
  {
   "cell_type": "code",
   "execution_count": 18,
   "metadata": {},
   "outputs": [
    {
     "name": "stdout",
     "output_type": "stream",
     "text": [
      "<class 'int'>\n"
     ]
    }
   ],
   "source": [
    "Age_new= int(Age)\n",
    "print (type(Age_new))"
   ]
  },
  {
   "cell_type": "code",
   "execution_count": 4,
   "metadata": {},
   "outputs": [
    {
     "name": "stdout",
     "output_type": "stream",
     "text": [
      "x\n",
      "50,000,000\n",
      "<class 'int'>\n"
     ]
    }
   ],
   "source": [
    "x1=50_000_000             #_ doesnot have any issue\n",
    "x2=5.1\n",
    "print ('x')\n",
    "print (f'{x1:,}')\n",
    "print (type(x1))"
   ]
  },
  {
   "cell_type": "code",
   "execution_count": 34,
   "metadata": {},
   "outputs": [
    {
     "name": "stdout",
     "output_type": "stream",
     "text": [
      "<class 'float'>\n",
      "5.0\n",
      "<class 'int'>\n",
      "5\n",
      "<class 'str'>\n",
      "5\n"
     ]
    }
   ],
   "source": [
    "x1_flot= float(x1)\n",
    "print (type(x1_flot))\n",
    "print (x1_flot)\n",
    "\n",
    "x2_int= int(x2)\n",
    "print (type(x2_int))\n",
    "print (x2_int)\n",
    "\n",
    "x2_str= str(x2_int)\n",
    "print (type(x2_str))\n",
    "print (x2_str)"
   ]
  },
  {
   "cell_type": "code",
   "execution_count": 4,
   "metadata": {},
   "outputs": [
    {
     "name": "stdout",
     "output_type": "stream",
     "text": [
      "x _ xs\n",
      "x = xs\n",
      "fullname:- x_xs is a crinal .\n",
      "fullname:-x_xs is a criminal:\n",
      "fullname:- x is a criminal and last name xs: .\n"
     ]
    }
   ],
   "source": [
    "first_name=['x','v','xyyx','xcxc','xcxc']\n",
    "second_name=['xs','vs','xyyxs','xcxcs','xcxcs']\n",
    "print (first_name[0],'_',second_name[0])\n",
    "print (first_name[0],'=',second_name[0])\n",
    "\n",
    "# print ('fullname:-',first_name[0],second_name[0],second_name[1], sep= '_', end='.')\n",
    "\n",
    "\n",
    "var= first_name[0]+'_'+second_name[0]         # string concate\n",
    "\n",
    "print ('fullname:-',var, 'is a crinal ',end='.' '\\n')\n",
    "print (f'fullname:-{var} is a criminal:')\n",
    "print ('fullname:- %s is a criminal and last name %s: .'%(first_name[0],second_name[0]) )"
   ]
  },
  {
   "cell_type": "code",
   "execution_count": 56,
   "metadata": {},
   "outputs": [
    {
     "data": {
      "text/plain": [
       "'x_xs'"
      ]
     },
     "execution_count": 56,
     "metadata": {},
     "output_type": "execute_result"
    }
   ],
   "source": [
    "var"
   ]
  },
  {
   "cell_type": "markdown",
   "metadata": {},
   "source": [
    "####  Referrence\n",
    "\n",
    "1. https://www.programiz.com/python-programming/methods/built-in/print\n",
    "2. https://www.kaggle.com/learn/python   [kaggle]"
   ]
  },
  {
   "cell_type": "code",
   "execution_count": null,
   "metadata": {},
   "outputs": [],
   "source": []
  }
 ],
 "metadata": {
  "hide_input": false,
  "kernelspec": {
   "display_name": "Python 3",
   "language": "python",
   "name": "python3"
  },
  "language_info": {
   "codemirror_mode": {
    "name": "ipython",
    "version": 3
   },
   "file_extension": ".py",
   "mimetype": "text/x-python",
   "name": "python",
   "nbconvert_exporter": "python",
   "pygments_lexer": "ipython3",
   "version": "3.7.7"
  }
 },
 "nbformat": 4,
 "nbformat_minor": 2
}
