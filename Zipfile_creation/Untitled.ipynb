{
 "cells": [
  {
   "cell_type": "code",
   "execution_count": 1,
   "metadata": {},
   "outputs": [],
   "source": [
    "import zipfile"
   ]
  },
  {
   "cell_type": "code",
   "execution_count": 3,
   "metadata": {},
   "outputs": [],
   "source": [
    "my_zip=zipfile.ZipFile('files.zip','w') # w= write mode as we are going tocreate a zip file\n",
    "\n",
    "my_zip.write('test.txt')\n",
    "my_zip.write('test1.txt')\n",
    "my_zip.write('test2.txt')\n",
    "my_zip.close()\n"
   ]
  },
  {
   "cell_type": "code",
   "execution_count": 7,
   "metadata": {},
   "outputs": [],
   "source": [
    "# Using context manager\n",
    "with zipfile.ZipFile('files.zip','w', compression=zipfile.ZIP_DEFLATED) as my_zip:\n",
    "    my_zip.write('test.txt')\n",
    "    my_zip.write('test1.txt')\n",
    "    my_zip.write('test2.txt')\n",
    "    "
   ]
  },
  {
   "cell_type": "code",
   "execution_count": 12,
   "metadata": {},
   "outputs": [],
   "source": [
    "# Using context manager to unzip the file\n",
    "with zipfile.ZipFile('files.zip','r') as my_zip:\n",
    "    #print(my_zip.namelist())\n",
    "    #my_zip.extractall('files1') # extract in file1 directory\n",
    "    my_zip.extract('test.txt') # extract in current directory\n",
    "    \n"
   ]
  },
  {
   "cell_type": "code",
   "execution_count": null,
   "metadata": {},
   "outputs": [],
   "source": []
  }
 ],
 "metadata": {
  "kernelspec": {
   "display_name": "Python 3",
   "language": "python",
   "name": "python3"
  },
  "language_info": {
   "codemirror_mode": {
    "name": "ipython",
    "version": 3
   },
   "file_extension": ".py",
   "mimetype": "text/x-python",
   "name": "python",
   "nbconvert_exporter": "python",
   "pygments_lexer": "ipython3",
   "version": "3.7.3"
  }
 },
 "nbformat": 4,
 "nbformat_minor": 2
}
