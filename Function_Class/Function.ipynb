{
 "cells": [
  {
   "cell_type": "code",
   "execution_count": 2,
   "metadata": {},
   "outputs": [
    {
     "name": "stdout",
     "output_type": "stream",
     "text": [
      "None\n"
     ]
    }
   ],
   "source": [
    "def first_fun():\n",
    "    \"\"\" Doc String to explain functio work\"\"\"\n",
    "    pass\n",
    "\n",
    "print (first_fun())"
   ]
  },
  {
   "cell_type": "code",
   "execution_count": 3,
   "metadata": {},
   "outputs": [
    {
     "name": "stdout",
     "output_type": "stream",
     "text": [
      "First function!\n",
      "First function!\n",
      "Function Print is required to see this.\n"
     ]
    }
   ],
   "source": [
    "def first_fun():\n",
    "    \"\"\" Doc String to explain functio work\"\"\"\n",
    "    print ('First function!')\n",
    "    return 'Function Print is required to see this.'\n",
    "\n",
    "    \n",
    "first_fun()\n",
    "print (first_fun())"
   ]
  },
  {
   "cell_type": "code",
   "execution_count": 1,
   "metadata": {},
   "outputs": [
    {
     "name": "stdout",
     "output_type": "stream",
     "text": [
      "Below is full name(if you print the function)\n",
      "Full name is prasannajit_XXXX\n",
      "Below is full name(if you print the function)\n",
      "Full name is prasannajit_Sahoo\n",
      "Below is full name(if you print the function)\n"
     ]
    },
    {
     "data": {
      "text/plain": [
       "'Full name is Nityananda_Sahoo'"
      ]
     },
     "execution_count": 1,
     "metadata": {},
     "output_type": "execute_result"
    }
   ],
   "source": [
    "def Full_Name(first_name, second_name='Sahoo'):\n",
    "    \"\"\" Doc String to explain functio work\"\"\"\n",
    "    \n",
    "    print ('Below is full name(if you print the function)')\n",
    "    return 'Full name is {}_{}'.format(first_name, second_name)\n",
    "\n",
    "\n",
    "\n",
    "print(Full_Name('prasannajit', second_name='XXXX'))\n",
    "print(Full_Name('prasannajit'))\n",
    "Full_Name('Nityananda')\n",
    "#print(Full_Name())  # it will be error as first mandetory input is not there"
   ]
  },
  {
   "cell_type": "code",
   "execution_count": 22,
   "metadata": {},
   "outputs": [
    {
     "name": "stdout",
     "output_type": "stream",
     "text": [
      "6\n"
     ]
    }
   ],
   "source": [
    "# sum_integers_list.py\n",
    "def my_sum(my_integers):\n",
    "    result = 0\n",
    "    for x in my_integers:\n",
    "        result += x\n",
    "    return result\n",
    "\n",
    "list_of_integers = [1, 2, 3]\n",
    "print(my_sum(list_of_integers))"
   ]
  },
  {
   "cell_type": "code",
   "execution_count": 23,
   "metadata": {},
   "outputs": [
    {
     "name": "stdout",
     "output_type": "stream",
     "text": [
      "6\n"
     ]
    }
   ],
   "source": [
    "'''If you don’t know up front all the values that should go into the list.\n",
    "This is where *args can be really useful, because it allows you to pass\n",
    "a varying number of positional arguments. Take the following example'''\n",
    "\n",
    "def my_sum(*args):\n",
    "    result = 0\n",
    "    # Iterating over the Python args tuple\n",
    "    for x in args:\n",
    "        result += x\n",
    "    return result\n",
    "\n",
    "print(my_sum(1, 2, 3))"
   ]
  },
  {
   "cell_type": "code",
   "execution_count": 25,
   "metadata": {},
   "outputs": [
    {
     "name": "stdout",
     "output_type": "stream",
     "text": [
      "RealPythonIsGreat!\n"
     ]
    }
   ],
   "source": [
    "''' what about **kwargs? **kwargs works just like *args,but instead of accepting positional\n",
    "argumentsit accepts keyword (or named) arguments , such as dictionary/indexed List'''\n",
    "\n",
    "\n",
    "def concatenate(**words):\n",
    "    result = \"\"\n",
    "    for arg in words.values():\n",
    "        result += arg\n",
    "    return result\n",
    "\n",
    "print(concatenate(a=\"Real\", b=\"Python\", c=\"Is\", d=\"Great\", e=\"!\"))"
   ]
  },
  {
   "cell_type": "markdown",
   "metadata": {},
   "source": [
    "### Filter"
   ]
  },
  {
   "cell_type": "code",
   "execution_count": 5,
   "metadata": {},
   "outputs": [
    {
     "data": {
      "text/plain": [
       "[4, 8]"
      ]
     },
     "execution_count": 5,
     "metadata": {},
     "output_type": "execute_result"
    }
   ],
   "source": [
    "def f (x):\n",
    "    return x%4==0\n",
    "\n",
    "even_number= list(filter(f, [1,2,3,4,5,6,7,8,9,10]))\n",
    "even_number"
   ]
  },
  {
   "cell_type": "markdown",
   "metadata": {},
   "source": [
    "### Map"
   ]
  },
  {
   "cell_type": "code",
   "execution_count": 14,
   "metadata": {},
   "outputs": [
    {
     "data": {
      "text/plain": [
       "[False, False, False, True, False, False, False, True, False, False]"
      ]
     },
     "execution_count": 14,
     "metadata": {},
     "output_type": "execute_result"
    }
   ],
   "source": [
    "even_number= list(map(f, [1,2,3,4,5,6,7,8,9,10]))\n",
    "even_number1= list(map(f, [1,2,3,4,5,6,7,8,9,10]))\n",
    "even_number1"
   ]
  },
  {
   "cell_type": "markdown",
   "metadata": {},
   "source": [
    "### Reduce"
   ]
  },
  {
   "cell_type": "code",
   "execution_count": 7,
   "metadata": {},
   "outputs": [
    {
     "data": {
      "text/plain": [
       "3628800"
      ]
     },
     "execution_count": 7,
     "metadata": {},
     "output_type": "execute_result"
    }
   ],
   "source": [
    "\n",
    "from functools import reduce\n",
    "\n",
    "def red(x,y):\n",
    "    return x*y\n",
    "\n",
    "reduce_number= reduce(red, [1,2,3,4,5,6,7,8,9,10],1)\n",
    "reduce_number"
   ]
  },
  {
   "cell_type": "markdown",
   "metadata": {},
   "source": [
    "### Accumulate"
   ]
  },
  {
   "cell_type": "code",
   "execution_count": 8,
   "metadata": {},
   "outputs": [
    {
     "data": {
      "text/plain": [
       "[1, 2, 6, 24, 120, 720, 5040, 40320, 362880, 3628800]"
      ]
     },
     "execution_count": 8,
     "metadata": {},
     "output_type": "execute_result"
    }
   ],
   "source": [
    "\n",
    "from itertools import accumulate\n",
    "\n",
    "reduce_number= list(accumulate([1,2,3,4,5,6,7,8,9,10], red))\n",
    "reduce_number"
   ]
  },
  {
   "cell_type": "code",
   "execution_count": null,
   "metadata": {},
   "outputs": [],
   "source": []
  }
 ],
 "metadata": {
  "hide_input": false,
  "kernelspec": {
   "display_name": "Python 3",
   "language": "python",
   "name": "python3"
  },
  "language_info": {
   "codemirror_mode": {
    "name": "ipython",
    "version": 3
   },
   "file_extension": ".py",
   "mimetype": "text/x-python",
   "name": "python",
   "nbconvert_exporter": "python",
   "pygments_lexer": "ipython3",
   "version": "3.7.7"
  }
 },
 "nbformat": 4,
 "nbformat_minor": 2
}
