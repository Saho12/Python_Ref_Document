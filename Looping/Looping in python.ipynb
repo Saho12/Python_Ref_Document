{
 "cells": [
  {
   "cell_type": "code",
   "execution_count": 15,
   "metadata": {},
   "outputs": [
    {
     "name": "stdout",
     "output_type": "stream",
     "text": [
      "Ram is actually ramu\n",
      "Shyam is actually Shamu\n",
      "Hari is actually Haru\n"
     ]
    }
   ],
   "source": [
    "names=['Ram','Shyam','Hari']\n",
    "snames=['ramu','Shamu','Haru']\n",
    "\n",
    "for index,name in enumerate(names):\n",
    "    #print (index,name)\n",
    "    snam= snames[index]\n",
    "    print (f'{name} is actually {snam}')"
   ]
  },
  {
   "cell_type": "code",
   "execution_count": 26,
   "metadata": {},
   "outputs": [
    {
     "name": "stdout",
     "output_type": "stream",
     "text": [
      "Ram is actually ramu from bhubaneswar\n",
      "Shyam is actually Shamu from cuttack\n",
      "Hari is actually Haru from bangalore\n"
     ]
    }
   ],
   "source": [
    "places=['bhubaneswar','cuttack','bangalore']\n",
    "\n",
    "for name,sname, pace in zip(names,snames, places):\n",
    "    print (f'{name} is actually {sname} from {pace}')"
   ]
  },
  {
   "cell_type": "code",
   "execution_count": 27,
   "metadata": {},
   "outputs": [
    {
     "name": "stdout",
     "output_type": "stream",
     "text": [
      "('Ram', 'ramu', 'bhubaneswar')\n",
      "('Shyam', 'Shamu', 'cuttack')\n",
      "('Hari', 'Haru', 'bangalore')\n"
     ]
    }
   ],
   "source": [
    "\n",
    "for value in zip(names,snames, places):\n",
    "    print (value)                            #prints as a tuple"
   ]
  },
  {
   "cell_type": "code",
   "execution_count": 30,
   "metadata": {},
   "outputs": [
    {
     "name": "stdout",
     "output_type": "stream",
     "text": [
      "bhubaneswar,cuttack,bangalore\n",
      "1_2_3\n"
     ]
    }
   ],
   "source": [
    "x= ','.join(places)\n",
    "print (x)\n",
    "test =  {'2', '1', '3'}\n",
    "s = '_'.join(test)\n",
    "print(s)"
   ]
  },
  {
   "cell_type": "code",
   "execution_count": 25,
   "metadata": {},
   "outputs": [
    {
     "name": "stdout",
     "output_type": "stream",
     "text": [
      "1_2_3\n"
     ]
    }
   ],
   "source": []
  },
  {
   "cell_type": "code",
   "execution_count": null,
   "metadata": {},
   "outputs": [],
   "source": []
  }
 ],
 "metadata": {
  "kernelspec": {
   "display_name": "Python 3",
   "language": "python",
   "name": "python3"
  },
  "language_info": {
   "codemirror_mode": {
    "name": "ipython",
    "version": 3
   },
   "file_extension": ".py",
   "mimetype": "text/x-python",
   "name": "python",
   "nbconvert_exporter": "python",
   "pygments_lexer": "ipython3",
   "version": "3.7.3"
  }
 },
 "nbformat": 4,
 "nbformat_minor": 2
}
