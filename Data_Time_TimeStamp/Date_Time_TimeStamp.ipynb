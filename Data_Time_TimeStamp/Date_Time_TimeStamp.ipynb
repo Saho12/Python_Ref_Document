{
 "cells": [
  {
   "cell_type": "markdown",
   "metadata": {},
   "source": [
    "# Date,Time and TimeStamp"
   ]
  },
  {
   "cell_type": "code",
   "execution_count": 77,
   "metadata": {},
   "outputs": [
    {
     "name": "stdout",
     "output_type": "stream",
     "text": [
      "1989-04-25 03:45:03\n",
      "4:25:1989\n",
      "1\n",
      "2\n"
     ]
    }
   ],
   "source": [
    "from datetime import date               # date= yyyymmdd format\n",
    "d1= date.today()    \n",
    "print(d)\n",
    "print(d.month, d.day, d.year, sep=':')\n",
    "print(d.weekday())                      # weekday number Monday=0, tuesday=1...\n",
    "print(d.isoweekday())                   # isoweekday number Monday=2, tuesday=2..."
   ]
  },
  {
   "cell_type": "code",
   "execution_count": 79,
   "metadata": {},
   "outputs": [
    {
     "name": "stdout",
     "output_type": "stream",
     "text": [
      "2015-07-27:<class 'datetime.date'>\n",
      "2015-07-27:<class 'str'>\n"
     ]
    },
    {
     "data": {
      "text/plain": [
       "datetime.date(2015, 7, 27)"
      ]
     },
     "execution_count": 79,
     "metadata": {},
     "output_type": "execute_result"
    }
   ],
   "source": [
    "d2=date.fromisoformat('2015-07-27')                       # enter a string to convert to date\n",
    "\n",
    "print ( d2,type(d2), sep=':')\n",
    "print (d2.isoformat(),type(d2.isoformat()), sep=':')      \n",
    "d2"
   ]
  },
  {
   "cell_type": "code",
   "execution_count": 49,
   "metadata": {},
   "outputs": [
    {
     "name": "stdout",
     "output_type": "stream",
     "text": [
      "Age:Service\n",
      "11308 days, 0:00:00 : 1719 days, 0:00:00\n"
     ]
    }
   ],
   "source": [
    "#date can be subtracted and added\n",
    "\n",
    "d2=date(2015,7,27)\n",
    "d3=date(1989,4,25)\n",
    "numberofdays_service= (d1-d2)\n",
    "Age= (d1-d3)\n",
    "\n",
    "print ('Age', 'Service', sep=':', end='\\n')\n",
    "print (Age, numberofdays_service, sep=' : ')"
   ]
  },
  {
   "cell_type": "code",
   "execution_count": 80,
   "metadata": {},
   "outputs": [
    {
     "name": "stdout",
     "output_type": "stream",
     "text": [
      "14:25:36.001221\n",
      "01:15:00\n",
      "True\n"
     ]
    }
   ],
   "source": [
    "from datetime import time     #format of time =(hour,minute,second,microsecond,tzinfo)format\n",
    "\n",
    "dtime= time(14,25,36,1221)   \n",
    "dtime_now = time(1,15)\n",
    "\n",
    "print(dtime)\n",
    "print(dtime_now)\n",
    "print(dtime>dtime_now)"
   ]
  },
  {
   "cell_type": "markdown",
   "metadata": {},
   "source": [
    "### datetime"
   ]
  },
  {
   "cell_type": "code",
   "execution_count": 91,
   "metadata": {},
   "outputs": [
    {
     "name": "stdout",
     "output_type": "stream",
     "text": [
      "1989-04-25\n",
      "03:45:03\n",
      "11:29:50.464951\n",
      "2020-04-10\n",
      "2020-04-10 11:29:50.464951\n",
      "11 29 2020 10\n"
     ]
    }
   ],
   "source": [
    "from datetime import datetime    #format of time =(yyyy,mm,dd, hour,minute,second,microsecond,ty) format\n",
    "d= datetime(1989,4,25,3,45,3)\n",
    "print (d.date())\n",
    "print(d.time())\n",
    "\n",
    "today=datetime.today()\n",
    "curr_time=datetime.now()\n",
    "\n",
    "print (curr_time.time())\n",
    "print (curr_time.date())\n",
    "print (today.date(),today.time())\n",
    "print (curr_time.hour, curr_time.minute,curr_time.year, curr_time.day)"
   ]
  },
  {
   "cell_type": "markdown",
   "metadata": {},
   "source": [
    "### datetime.strftime() for actual name of month and weekdays"
   ]
  },
  {
   "cell_type": "code",
   "execution_count": 108,
   "metadata": {},
   "outputs": [
    {
     "name": "stdout",
     "output_type": "stream",
     "text": [
      "Fri, Friday, Apr, 04/10/20, April,10,2020\n"
     ]
    }
   ],
   "source": [
    "print (curr_time.strftime('%a, %A, %b, %x, %B,%d,%Y'))"
   ]
  },
  {
   "cell_type": "markdown",
   "metadata": {},
   "source": [
    "### timedelta"
   ]
  },
  {
   "cell_type": "code",
   "execution_count": 102,
   "metadata": {},
   "outputs": [
    {
     "name": "stdout",
     "output_type": "stream",
     "text": [
      "2020-04-16 11:29:50.464951\n"
     ]
    }
   ],
   "source": [
    "from datetime import timedelta\n",
    "tdelta= timedelta(days=6)\n",
    "fut_day=today+tdelta\n",
    "print (fut_day)"
   ]
  },
  {
   "cell_type": "code",
   "execution_count": 96,
   "metadata": {},
   "outputs": [
    {
     "name": "stdout",
     "output_type": "stream",
     "text": [
      "1586511674.0731082\n",
      "Fri Apr 10 11:41:14 2020\n"
     ]
    }
   ],
   "source": [
    "import time\n",
    "ts= time.time()\n",
    "print (ts)\n",
    "print(time.ctime())   # this is computer time"
   ]
  },
  {
   "cell_type": "code",
   "execution_count": 112,
   "metadata": {},
   "outputs": [
    {
     "name": "stdout",
     "output_type": "stream",
     "text": [
      "total time taken = 0.015625 seconds\n"
     ]
    }
   ],
   "source": [
    "# to find the time duration for a opertraion\n",
    "start_time= time.process_time()\n",
    "time.sleep(8)\n",
    "end_time=time.process_time()\n",
    "\n",
    "execution_time=end_time-start_time\n",
    "print ('total time taken =' ,execution_time,'seconds')"
   ]
  },
  {
   "cell_type": "code",
   "execution_count": null,
   "metadata": {},
   "outputs": [],
   "source": []
  },
  {
   "cell_type": "code",
   "execution_count": null,
   "metadata": {},
   "outputs": [],
   "source": []
  }
 ],
 "metadata": {
  "kernelspec": {
   "display_name": "Python 3",
   "language": "python",
   "name": "python3"
  },
  "language_info": {
   "codemirror_mode": {
    "name": "ipython",
    "version": 3
   },
   "file_extension": ".py",
   "mimetype": "text/x-python",
   "name": "python",
   "nbconvert_exporter": "python",
   "pygments_lexer": "ipython3",
   "version": "3.7.3"
  }
 },
 "nbformat": 4,
 "nbformat_minor": 2
}
