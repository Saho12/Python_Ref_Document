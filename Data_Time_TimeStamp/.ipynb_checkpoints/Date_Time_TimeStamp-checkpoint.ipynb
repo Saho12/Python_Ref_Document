{
 "cells": [
  {
   "cell_type": "markdown",
   "metadata": {},
   "source": [
    "# Date,Time and TimeStamp"
   ]
  },
  {
   "cell_type": "code",
   "execution_count": 3,
   "metadata": {},
   "outputs": [],
   "source": [
    "from datetime import date  # date= yyyymmdd format\n",
    "from datetime import datetime  #format of time =(yyyy,mm,dd, hour,minute,second,microsecond,ty) format\n",
    "from datetime import time     #format of time =(hour,minute,second,microsecond,tzinfo)format"
   ]
  },
  {
   "cell_type": "code",
   "execution_count": 4,
   "metadata": {},
   "outputs": [
    {
     "name": "stdout",
     "output_type": "stream",
     "text": [
      "2020-04-20\n",
      "4:20:2020\n",
      "0\n",
      "1\n"
     ]
    }
   ],
   "source": [
    "             \n",
    "d= date.today()    \n",
    "print(d)\n",
    "print(d.month, d.day, d.year, sep=':')\n",
    "print(d.weekday())                      # weekday number Monday=0, tuesday=1...\n",
    "print(d.isoweekday())                   # isoweekday number Monday=2, tuesday=2..."
   ]
  },
  {
   "cell_type": "code",
   "execution_count": 5,
   "metadata": {},
   "outputs": [
    {
     "name": "stdout",
     "output_type": "stream",
     "text": [
      "2015-07-27:<class 'datetime.date'>\n",
      "2015-07-27:<class 'str'>\n"
     ]
    },
    {
     "data": {
      "text/plain": [
       "datetime.date(2015, 7, 27)"
      ]
     },
     "execution_count": 5,
     "metadata": {},
     "output_type": "execute_result"
    }
   ],
   "source": [
    "d2=date.fromisoformat('2015-07-27')                       # enter a string to convert to date\n",
    "\n",
    "print ( d2,type(d2), sep=':')\n",
    "print (d2.isoformat(),type(d2.isoformat()), sep=':')      \n",
    "d2"
   ]
  },
  {
   "cell_type": "code",
   "execution_count": 6,
   "metadata": {},
   "outputs": [
    {
     "name": "stdout",
     "output_type": "stream",
     "text": [
      "Age:Service\n",
      "11318 days, 0:00:00 : 1729 days, 0:00:00\n"
     ]
    }
   ],
   "source": [
    "#date can be subtracted and added\n",
    "\n",
    "d2=date(2015,7,27)\n",
    "d3=date(1989,4,25)\n",
    "numberofdays_service= (d1-d2)\n",
    "Age= (d1-d3)\n",
    "\n",
    "print ('Age', 'Service', sep=':', end='\\n')\n",
    "print (Age, numberofdays_service, sep=' : ')"
   ]
  },
  {
   "cell_type": "code",
   "execution_count": 7,
   "metadata": {},
   "outputs": [
    {
     "name": "stdout",
     "output_type": "stream",
     "text": [
      "14:25:36.001221\n",
      "01:15:00\n",
      "True\n"
     ]
    }
   ],
   "source": [
    "\n",
    "\n",
    "dtime= time(14,25,36,1221)   \n",
    "dtime_now = time(1,15)\n",
    "\n",
    "print(dtime)\n",
    "print(dtime_now)\n",
    "print(dtime>dtime_now)"
   ]
  },
  {
   "cell_type": "markdown",
   "metadata": {},
   "source": [
    "### datetime"
   ]
  },
  {
   "cell_type": "code",
   "execution_count": 8,
   "metadata": {
    "scrolled": true
   },
   "outputs": [
    {
     "name": "stdout",
     "output_type": "stream",
     "text": [
      "1989-04-25\n",
      "03:45:03\n",
      "14:38:16.409558\n",
      "2020-04-20\n",
      "2020-04-20 14:38:16.409559\n",
      "14 38 2020 20\n"
     ]
    }
   ],
   "source": [
    "# from datetime import datetime    #format of time =(yyyy,mm,dd, hour,minute,second,microsecond,ty) format\n",
    "d= datetime(1989,4,25,3,45,3)\n",
    "print (d.date())\n",
    "print(d.time())\n",
    "\n",
    "today=datetime.today()\n",
    "curr_time=datetime.now()\n",
    "\n",
    "print (curr_time.time())\n",
    "print (curr_time.date())\n",
    "print (today.date(),today.time())\n",
    "print (curr_time.hour, curr_time.minute,curr_time.year, curr_time.day)"
   ]
  },
  {
   "cell_type": "markdown",
   "metadata": {},
   "source": [
    "### datetime.strftime() for actual name of month and weekdays"
   ]
  },
  {
   "cell_type": "code",
   "execution_count": 9,
   "metadata": {},
   "outputs": [
    {
     "name": "stdout",
     "output_type": "stream",
     "text": [
      "Mon, Monday, Apr, 04/20/20, April,20,2020\n"
     ]
    }
   ],
   "source": [
    "print (curr_time.strftime('%a, %A, %b, %x, %B,%d,%Y'))"
   ]
  },
  {
   "cell_type": "markdown",
   "metadata": {},
   "source": [
    "### timedelta"
   ]
  },
  {
   "cell_type": "code",
   "execution_count": 10,
   "metadata": {},
   "outputs": [
    {
     "name": "stdout",
     "output_type": "stream",
     "text": [
      "2020-04-26 14:38:16.409559\n"
     ]
    }
   ],
   "source": [
    "from datetime import timedelta\n",
    "tdelta= timedelta(days=6)\n",
    "fut_day=today+tdelta\n",
    "print (fut_day)"
   ]
  },
  {
   "cell_type": "code",
   "execution_count": 11,
   "metadata": {},
   "outputs": [
    {
     "name": "stdout",
     "output_type": "stream",
     "text": [
      "1587386315.074815\n",
      "Mon Apr 20 14:38:35 2020\n"
     ]
    }
   ],
   "source": [
    "import time\n",
    "ts= time.time()\n",
    "print (ts)\n",
    "print(time.ctime())   # this is computer time"
   ]
  },
  {
   "cell_type": "code",
   "execution_count": 13,
   "metadata": {},
   "outputs": [
    {
     "name": "stdout",
     "output_type": "stream",
     "text": [
      "total time taken = 0.015625 seconds\n"
     ]
    }
   ],
   "source": [
    "# to find the time duration for a opertraion\n",
    "start_time= time.process_time()\n",
    "time.sleep(8)\n",
    "end_time=time.process_time()\n",
    "\n",
    "execution_time=end_time-start_time\n",
    "print ('total time taken =' ,execution_time,'seconds')"
   ]
  },
  {
   "cell_type": "markdown",
   "metadata": {},
   "source": [
    "### datetime.strptime\n",
    "\n",
    "The strptime() method creates a datetime object from the given string.\n",
    "Note: You cannot create datetime object from every string. The string needs to be in a certain format.\n",
    "\n",
    "The strptime(string, formatcode) class method takes two arguments:\n",
    "\n",
    ">> string (that be converted to datetime) '\\n'\n",
    ">> format code\n",
    "\n",
    "Based on the string and format code used, the method returns its equivalent datetime object."
   ]
  },
  {
   "cell_type": "code",
   "execution_count": 30,
   "metadata": {},
   "outputs": [
    {
     "name": "stdout",
     "output_type": "stream",
     "text": [
      "\n",
      " 2018-06-21 00:00:00 \n",
      " 2018-06-21 00:00:00 \n",
      " 2018-06-21 00:00:00\n",
      "type of date_object = <class 'datetime.datetime'>\n"
     ]
    }
   ],
   "source": [
    "\n",
    "date_string1 = \"21 June, 2018\"\n",
    "date_string2 = \"21/06/2018\"\n",
    "date_string3 = \"21-06-2018\"\n",
    "\n",
    "#print(\"date_string =\", date_string1)\n",
    "#print(\"type of date_string =\", type(date_string1))\n",
    "\n",
    "date_object1 = datetime.strptime(date_string1, \"%d %B, %Y\")\n",
    "date_object2 = datetime.strptime(date_string2, \"%d/%m/%Y\")\n",
    "date_object3 = datetime.strptime(date_string3, \"%d-%m-%Y\")\n",
    "\n",
    "print('\\n', date_object1,'\\n',date_object2, '\\n',date_object3 )\n",
    "print(\"type of date_object =\", type(date_object2))"
   ]
  },
  {
   "cell_type": "code",
   "execution_count": 22,
   "metadata": {},
   "outputs": [
    {
     "name": "stdout",
     "output_type": "stream",
     "text": [
      "dt_object1 = 2018-11-12 09:15:32\n",
      "dt_object2 = 2018-12-11 09:15:32\n"
     ]
    }
   ],
   "source": [
    "from datetime import datetime\n",
    "\n",
    "dt_string = \"12/11/2018 09:15:32.html\"\n",
    "\n",
    "# Considering date is in dd/mm/yyyy format\n",
    "dt_object1 = datetime.strptime(dt_string, \"%d/%m/%Y %H:%M:%S.html\")\n",
    "print(\"dt_object1 =\", dt_object1)\n",
    "\n",
    "# Considering date is in mm/dd/yyyy format\n",
    "dt_object2 = datetime.strptime(dt_string, \"%m/%d/%Y %H:%M:%S.html\")\n",
    "print(\"dt_object2 =\", dt_object2)"
   ]
  },
  {
   "cell_type": "markdown",
   "metadata": {},
   "source": [
    "## time.mktime()"
   ]
  },
  {
   "cell_type": "code",
   "execution_count": 25,
   "metadata": {},
   "outputs": [
    {
     "name": "stdout",
     "output_type": "stream",
     "text": [
      "time.struct_time(tm_year=1970, tm_mon=1, tm_mday=12, tm_hour=13, tm_min=46, tm_sec=40, tm_wday=0, tm_yday=12, tm_isdst=0)\n",
      "\n",
      "Local time (in seconds): 996400.0\n",
      "\n",
      "Local time (in seconds): 1568451000.0\n"
     ]
    }
   ],
   "source": [
    "import time  \n",
    "  \n",
    "# time.gmtime() method will returns a time.struct_time object in UTC\n",
    "# for the time expressed in seconds since the epoch\n",
    "seconds = 1000000\n",
    "obj1 = time.gmtime(seconds) \n",
    "  \n",
    "# Print time.struct_time object (in UTC) \n",
    "print(obj1) \n",
    "  \n",
    "# Convert the time.struct_time object to local time expressed in seconds since the epoch \n",
    "# using time.mktime() method\n",
    "time_sec = time.mktime(obj1) \n",
    "  \n",
    "# Print the local time in seconds \n",
    "print(\"\\nLocal time (in seconds):\", time_sec) \n",
    "  \n",
    "# time.strptime() method parse a string representing a time according to the given format \n",
    "# and returns a time.struct_time object \n",
    "  \n",
    "# Time string  \n",
    "t = \"14 Sep 2019 10:50:00\"\n",
    "  \n",
    "# Parse the time string using 'time.strptime()' method \n",
    "obj2 = time.strptime(t, \"%d %b %Y %H:%M:%S\") \n",
    "  \n",
    "# Convert the time.struct_time object to local time expressed in seconds \n",
    "#since the epoch using time.mktime() method time_sec = time.mktime(obj2) \n",
    "  \n",
    "# Print the local time in seconds \n",
    "print(\"\\nLocal time (in seconds):\", time_sec) "
   ]
  },
  {
   "cell_type": "code",
   "execution_count": null,
   "metadata": {},
   "outputs": [],
   "source": [
    "dddd"
   ]
  }
 ],
 "metadata": {
  "kernelspec": {
   "display_name": "Python 3",
   "language": "python",
   "name": "python3"
  },
  "language_info": {
   "codemirror_mode": {
    "name": "ipython",
    "version": 3
   },
   "file_extension": ".py",
   "mimetype": "text/x-python",
   "name": "python",
   "nbconvert_exporter": "python",
   "pygments_lexer": "ipython3",
   "version": "3.7.3"
  }
 },
 "nbformat": 4,
 "nbformat_minor": 2
}
